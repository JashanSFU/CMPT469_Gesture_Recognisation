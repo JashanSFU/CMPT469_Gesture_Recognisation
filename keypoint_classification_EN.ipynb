{
 "cells": [
  {
   "cell_type": "code",
   "execution_count": 90,
   "metadata": {
    "id": "igMyGnjE9hEp"
   },
   "outputs": [],
   "source": [
    "import csv\n",
    "\n",
    "import numpy as np\n",
    "import tensorflow as tf\n",
    "from sklearn.model_selection import train_test_split\n",
    "\n",
    "RANDOM_SEED = 42"
   ]
  },
  {
   "cell_type": "markdown",
   "metadata": {
    "id": "t2HDvhIu9hEr"
   },
   "source": [
    "# Specify each path"
   ]
  },
  {
   "cell_type": "code",
   "execution_count": 91,
   "metadata": {
    "id": "9NvZP2Zn9hEy"
   },
   "outputs": [],
   "source": [
    "dataset = 'model/keypoint_classifier/keypoint.csv'\n",
    "model_save_path = 'model/keypoint_classifier/keypoint_classifier.hdf5'\n",
    "tflite_save_path = 'model/keypoint_classifier/keypoint_classifier.tflite'"
   ]
  },
  {
   "cell_type": "markdown",
   "metadata": {
    "id": "s5oMH7x19hEz"
   },
   "source": [
    "# Set number of classes"
   ]
  },
  {
   "cell_type": "code",
   "execution_count": 92,
   "metadata": {
    "id": "du4kodXL9hEz"
   },
   "outputs": [],
   "source": [
    "NUM_CLASSES = 5"
   ]
  },
  {
   "cell_type": "markdown",
   "metadata": {
    "id": "XjnL0uso9hEz"
   },
   "source": [
    "# Dataset reading"
   ]
  },
  {
   "cell_type": "code",
   "execution_count": 93,
   "metadata": {
    "id": "QT5ZqtEz9hE0"
   },
   "outputs": [],
   "source": [
    "X_dataset = np.loadtxt(dataset, delimiter=',', dtype='float32', usecols=list(range(1, (21 * 2) + 1)))"
   ]
  },
  {
   "cell_type": "code",
   "execution_count": 94,
   "metadata": {
    "id": "QmoKFsp49hE0"
   },
   "outputs": [],
   "source": [
    "y_dataset = np.loadtxt(dataset, delimiter=',', dtype='int32', usecols=(0))"
   ]
  },
  {
   "cell_type": "code",
   "execution_count": 95,
   "metadata": {
    "id": "xQU7JTZ_9hE0"
   },
   "outputs": [],
   "source": [
    "X_train, X_test, y_train, y_test = train_test_split(X_dataset, y_dataset, train_size=0.75, random_state=RANDOM_SEED)"
   ]
  },
  {
   "cell_type": "markdown",
   "metadata": {
    "id": "mxK_lETT9hE0"
   },
   "source": [
    "# Model building"
   ]
  },
  {
   "cell_type": "code",
   "execution_count": 96,
   "metadata": {
    "id": "vHBmUf1t9hE1"
   },
   "outputs": [],
   "source": [
    "model = tf.keras.models.Sequential([\n",
    "    tf.keras.layers.Input((21 * 2, )),\n",
    "    tf.keras.layers.Dropout(0.2),\n",
    "    tf.keras.layers.Dense(20, activation='relu'),\n",
    "    tf.keras.layers.Dropout(0.4),\n",
    "    tf.keras.layers.Dense(10, activation='relu'),\n",
    "    tf.keras.layers.Dense(NUM_CLASSES, activation='softmax')\n",
    "])"
   ]
  },
  {
   "cell_type": "code",
   "execution_count": 97,
   "metadata": {
    "colab": {
     "base_uri": "https://localhost:8080/"
    },
    "id": "ypqky9tc9hE1",
    "outputId": "5db082bb-30e3-4110-bf63-a1ee777ecd46"
   },
   "outputs": [
    {
     "name": "stdout",
     "output_type": "stream",
     "text": [
      "Model: \"sequential_4\"\n",
      "_________________________________________________________________\n",
      " Layer (type)                Output Shape              Param #   \n",
      "=================================================================\n",
      " dropout_8 (Dropout)         (None, 42)                0         \n",
      "                                                                 \n",
      " dense_12 (Dense)            (None, 20)                860       \n",
      "                                                                 \n",
      " dropout_9 (Dropout)         (None, 20)                0         \n",
      "                                                                 \n",
      " dense_13 (Dense)            (None, 10)                210       \n",
      "                                                                 \n",
      " dense_14 (Dense)            (None, 5)                 55        \n",
      "                                                                 \n",
      "=================================================================\n",
      "Total params: 1,125\n",
      "Trainable params: 1,125\n",
      "Non-trainable params: 0\n",
      "_________________________________________________________________\n"
     ]
    }
   ],
   "source": [
    "model.summary()  # tf.keras.utils.plot_model(model, show_shapes=True)"
   ]
  },
  {
   "cell_type": "code",
   "execution_count": 98,
   "metadata": {
    "id": "MbMjOflQ9hE1"
   },
   "outputs": [],
   "source": [
    "# Model checkpoint callback\n",
    "cp_callback = tf.keras.callbacks.ModelCheckpoint(\n",
    "    model_save_path, verbose=1, save_weights_only=False)\n",
    "# Callback for early stopping\n",
    "es_callback = tf.keras.callbacks.EarlyStopping(patience=20, verbose=1)"
   ]
  },
  {
   "cell_type": "code",
   "execution_count": 99,
   "metadata": {
    "id": "c3Dac0M_9hE2"
   },
   "outputs": [],
   "source": [
    "# Model compilation\n",
    "model.compile(\n",
    "    optimizer='adam',\n",
    "    loss='sparse_categorical_crossentropy',\n",
    "    metrics=['accuracy']\n",
    ")"
   ]
  },
  {
   "cell_type": "markdown",
   "metadata": {
    "id": "7XI0j1Iu9hE2"
   },
   "source": [
    "# Model training"
   ]
  },
  {
   "cell_type": "code",
   "execution_count": 100,
   "metadata": {
    "colab": {
     "base_uri": "https://localhost:8080/"
    },
    "id": "WirBl-JE9hE3",
    "outputId": "71b30ca2-8294-4d9d-8aa2-800d90d399de",
    "scrolled": true
   },
   "outputs": [
    {
     "name": "stdout",
     "output_type": "stream",
     "text": [
      "Epoch 1/1000\n",
      "20/31 [==================>...........] - ETA: 0s - loss: 1.6616 - accuracy: 0.2289 \n",
      "Epoch 1: saving model to model/keypoint_classifier\\keypoint_classifier.hdf5\n",
      "31/31 [==============================] - 1s 12ms/step - loss: 1.6427 - accuracy: 0.2433 - val_loss: 1.5330 - val_accuracy: 0.3214\n",
      "Epoch 2/1000\n",
      "26/31 [========================>.....] - ETA: 0s - loss: 1.5388 - accuracy: 0.3203\n",
      "Epoch 2: saving model to model/keypoint_classifier\\keypoint_classifier.hdf5\n",
      "31/31 [==============================] - 0s 4ms/step - loss: 1.5322 - accuracy: 0.3255 - val_loss: 1.4662 - val_accuracy: 0.4163\n",
      "Epoch 3/1000\n",
      "19/31 [=================>............] - ETA: 0s - loss: 1.4799 - accuracy: 0.3581\n",
      "Epoch 3: saving model to model/keypoint_classifier\\keypoint_classifier.hdf5\n",
      "31/31 [==============================] - 0s 6ms/step - loss: 1.4709 - accuracy: 0.3699 - val_loss: 1.4077 - val_accuracy: 0.4311\n",
      "Epoch 4/1000\n",
      "24/31 [======================>.......] - ETA: 0s - loss: 1.4245 - accuracy: 0.3916\n",
      "Epoch 4: saving model to model/keypoint_classifier\\keypoint_classifier.hdf5\n",
      "31/31 [==============================] - 0s 5ms/step - loss: 1.4193 - accuracy: 0.3923 - val_loss: 1.3594 - val_accuracy: 0.4428\n",
      "Epoch 5/1000\n",
      "22/31 [====================>.........] - ETA: 0s - loss: 1.3695 - accuracy: 0.4123\n",
      "Epoch 5: saving model to model/keypoint_classifier\\keypoint_classifier.hdf5\n",
      "31/31 [==============================] - 0s 5ms/step - loss: 1.3694 - accuracy: 0.4078 - val_loss: 1.2924 - val_accuracy: 0.5237\n",
      "Epoch 6/1000\n",
      "23/31 [=====================>........] - ETA: 0s - loss: 1.3232 - accuracy: 0.4372\n",
      "Epoch 6: saving model to model/keypoint_classifier\\keypoint_classifier.hdf5\n",
      "31/31 [==============================] - 0s 5ms/step - loss: 1.3284 - accuracy: 0.4296 - val_loss: 1.2332 - val_accuracy: 0.5479\n",
      "Epoch 7/1000\n",
      "30/31 [============================>.] - ETA: 0s - loss: 1.2717 - accuracy: 0.4599\n",
      "Epoch 7: saving model to model/keypoint_classifier\\keypoint_classifier.hdf5\n",
      "31/31 [==============================] - 0s 4ms/step - loss: 1.2717 - accuracy: 0.4598 - val_loss: 1.1732 - val_accuracy: 0.5642\n",
      "Epoch 8/1000\n",
      "25/31 [=======================>......] - ETA: 0s - loss: 1.2358 - accuracy: 0.4812\n",
      "Epoch 8: saving model to model/keypoint_classifier\\keypoint_classifier.hdf5\n",
      "31/31 [==============================] - 0s 5ms/step - loss: 1.2283 - accuracy: 0.4860 - val_loss: 1.1101 - val_accuracy: 0.5751\n",
      "Epoch 9/1000\n",
      "25/31 [=======================>......] - ETA: 0s - loss: 1.1900 - accuracy: 0.4847\n",
      "Epoch 9: saving model to model/keypoint_classifier\\keypoint_classifier.hdf5\n",
      "31/31 [==============================] - 0s 5ms/step - loss: 1.1911 - accuracy: 0.4849 - val_loss: 1.0434 - val_accuracy: 0.6039\n",
      "Epoch 10/1000\n",
      "24/31 [======================>.......] - ETA: 0s - loss: 1.1442 - accuracy: 0.5081\n",
      "Epoch 10: saving model to model/keypoint_classifier\\keypoint_classifier.hdf5\n",
      "31/31 [==============================] - 0s 5ms/step - loss: 1.1444 - accuracy: 0.5067 - val_loss: 0.9846 - val_accuracy: 0.6125\n",
      "Epoch 11/1000\n",
      "23/31 [=====================>........] - ETA: 0s - loss: 1.1174 - accuracy: 0.5187\n",
      "Epoch 11: saving model to model/keypoint_classifier\\keypoint_classifier.hdf5\n",
      "31/31 [==============================] - 0s 5ms/step - loss: 1.1142 - accuracy: 0.5221 - val_loss: 0.9391 - val_accuracy: 0.6265\n",
      "Epoch 12/1000\n",
      "21/31 [===================>..........] - ETA: 0s - loss: 1.0534 - accuracy: 0.5521\n",
      "Epoch 12: saving model to model/keypoint_classifier\\keypoint_classifier.hdf5\n",
      "31/31 [==============================] - 0s 6ms/step - loss: 1.0651 - accuracy: 0.5530 - val_loss: 0.8841 - val_accuracy: 0.6537\n",
      "Epoch 13/1000\n",
      "20/31 [==================>...........] - ETA: 0s - loss: 1.0647 - accuracy: 0.5531\n",
      "Epoch 13: saving model to model/keypoint_classifier\\keypoint_classifier.hdf5\n",
      "31/31 [==============================] - 0s 6ms/step - loss: 1.0540 - accuracy: 0.5592 - val_loss: 0.8499 - val_accuracy: 0.6770\n",
      "Epoch 14/1000\n",
      "25/31 [=======================>......] - ETA: 0s - loss: 1.0044 - accuracy: 0.5872\n",
      "Epoch 14: saving model to model/keypoint_classifier\\keypoint_classifier.hdf5\n",
      "31/31 [==============================] - 0s 5ms/step - loss: 1.0034 - accuracy: 0.5888 - val_loss: 0.8035 - val_accuracy: 0.7027\n",
      "Epoch 15/1000\n",
      "26/31 [========================>.....] - ETA: 0s - loss: 1.0053 - accuracy: 0.5847\n",
      "Epoch 15: saving model to model/keypoint_classifier\\keypoint_classifier.hdf5\n",
      "31/31 [==============================] - 0s 4ms/step - loss: 1.0060 - accuracy: 0.5800 - val_loss: 0.7720 - val_accuracy: 0.7183\n",
      "Epoch 16/1000\n",
      "21/31 [===================>..........] - ETA: 0s - loss: 0.9672 - accuracy: 0.5938\n",
      "Epoch 16: saving model to model/keypoint_classifier\\keypoint_classifier.hdf5\n",
      "31/31 [==============================] - 0s 5ms/step - loss: 0.9665 - accuracy: 0.5999 - val_loss: 0.7349 - val_accuracy: 0.7626\n",
      "Epoch 17/1000\n",
      "21/31 [===================>..........] - ETA: 0s - loss: 0.9369 - accuracy: 0.6116\n",
      "Epoch 17: saving model to model/keypoint_classifier\\keypoint_classifier.hdf5\n",
      "31/31 [==============================] - 0s 5ms/step - loss: 0.9367 - accuracy: 0.6090 - val_loss: 0.7001 - val_accuracy: 0.7992\n",
      "Epoch 18/1000\n",
      "29/31 [===========================>..] - ETA: 0s - loss: 0.9267 - accuracy: 0.6126\n",
      "Epoch 18: saving model to model/keypoint_classifier\\keypoint_classifier.hdf5\n",
      "31/31 [==============================] - 0s 4ms/step - loss: 0.9283 - accuracy: 0.6121 - val_loss: 0.6740 - val_accuracy: 0.8187\n",
      "Epoch 19/1000\n",
      "28/31 [==========================>...] - ETA: 0s - loss: 0.8980 - accuracy: 0.6272\n",
      "Epoch 19: saving model to model/keypoint_classifier\\keypoint_classifier.hdf5\n",
      "31/31 [==============================] - 0s 4ms/step - loss: 0.8979 - accuracy: 0.6288 - val_loss: 0.6427 - val_accuracy: 0.8272\n",
      "Epoch 20/1000\n",
      "20/31 [==================>...........] - ETA: 0s - loss: 0.8884 - accuracy: 0.6293\n",
      "Epoch 20: saving model to model/keypoint_classifier\\keypoint_classifier.hdf5\n",
      "31/31 [==============================] - 0s 5ms/step - loss: 0.8947 - accuracy: 0.6272 - val_loss: 0.6167 - val_accuracy: 0.8451\n",
      "Epoch 21/1000\n",
      "26/31 [========================>.....] - ETA: 0s - loss: 0.8758 - accuracy: 0.6406\n",
      "Epoch 21: saving model to model/keypoint_classifier\\keypoint_classifier.hdf5\n",
      "31/31 [==============================] - 0s 5ms/step - loss: 0.8751 - accuracy: 0.6391 - val_loss: 0.6010 - val_accuracy: 0.8412\n",
      "Epoch 22/1000\n",
      "24/31 [======================>.......] - ETA: 0s - loss: 0.8734 - accuracy: 0.6387\n",
      "Epoch 22: saving model to model/keypoint_classifier\\keypoint_classifier.hdf5\n",
      "31/31 [==============================] - 0s 5ms/step - loss: 0.8740 - accuracy: 0.6397 - val_loss: 0.5825 - val_accuracy: 0.8646\n",
      "Epoch 23/1000\n",
      "23/31 [=====================>........] - ETA: 0s - loss: 0.8527 - accuracy: 0.6450\n",
      "Epoch 23: saving model to model/keypoint_classifier\\keypoint_classifier.hdf5\n",
      "31/31 [==============================] - 0s 5ms/step - loss: 0.8499 - accuracy: 0.6417 - val_loss: 0.5714 - val_accuracy: 0.8537\n",
      "Epoch 24/1000\n",
      "20/31 [==================>...........] - ETA: 0s - loss: 0.8629 - accuracy: 0.6508\n",
      "Epoch 24: saving model to model/keypoint_classifier\\keypoint_classifier.hdf5\n",
      "31/31 [==============================] - 0s 6ms/step - loss: 0.8529 - accuracy: 0.6529 - val_loss: 0.5553 - val_accuracy: 0.8685\n",
      "Epoch 25/1000\n",
      "21/31 [===================>..........] - ETA: 0s - loss: 0.8349 - accuracy: 0.6574\n",
      "Epoch 25: saving model to model/keypoint_classifier\\keypoint_classifier.hdf5\n",
      "31/31 [==============================] - 0s 5ms/step - loss: 0.8404 - accuracy: 0.6573 - val_loss: 0.5445 - val_accuracy: 0.8685\n",
      "Epoch 26/1000\n",
      "25/31 [=======================>......] - ETA: 0s - loss: 0.8320 - accuracy: 0.6525\n",
      "Epoch 26: saving model to model/keypoint_classifier\\keypoint_classifier.hdf5\n",
      "31/31 [==============================] - 0s 5ms/step - loss: 0.8279 - accuracy: 0.6532 - val_loss: 0.5348 - val_accuracy: 0.8724\n",
      "Epoch 27/1000\n",
      "20/31 [==================>...........] - ETA: 0s - loss: 0.8148 - accuracy: 0.6633\n",
      "Epoch 27: saving model to model/keypoint_classifier\\keypoint_classifier.hdf5\n",
      "31/31 [==============================] - 0s 5ms/step - loss: 0.8196 - accuracy: 0.6607 - val_loss: 0.5197 - val_accuracy: 0.8739\n",
      "Epoch 28/1000\n"
     ]
    },
    {
     "name": "stdout",
     "output_type": "stream",
     "text": [
      "22/31 [====================>.........] - ETA: 0s - loss: 0.7930 - accuracy: 0.6701\n",
      "Epoch 28: saving model to model/keypoint_classifier\\keypoint_classifier.hdf5\n",
      "31/31 [==============================] - 0s 5ms/step - loss: 0.8004 - accuracy: 0.6695 - val_loss: 0.5118 - val_accuracy: 0.8646\n",
      "Epoch 29/1000\n",
      "25/31 [=======================>......] - ETA: 0s - loss: 0.7710 - accuracy: 0.6916\n",
      "Epoch 29: saving model to model/keypoint_classifier\\keypoint_classifier.hdf5\n",
      "31/31 [==============================] - 0s 4ms/step - loss: 0.7718 - accuracy: 0.6887 - val_loss: 0.5005 - val_accuracy: 0.8732\n",
      "Epoch 30/1000\n",
      "27/31 [=========================>....] - ETA: 0s - loss: 0.7907 - accuracy: 0.6829\n",
      "Epoch 30: saving model to model/keypoint_classifier\\keypoint_classifier.hdf5\n",
      "31/31 [==============================] - 0s 4ms/step - loss: 0.7835 - accuracy: 0.6867 - val_loss: 0.4887 - val_accuracy: 0.8763\n",
      "Epoch 31/1000\n",
      "24/31 [======================>.......] - ETA: 0s - loss: 0.7721 - accuracy: 0.6898\n",
      "Epoch 31: saving model to model/keypoint_classifier\\keypoint_classifier.hdf5\n",
      "31/31 [==============================] - 0s 5ms/step - loss: 0.7846 - accuracy: 0.6869 - val_loss: 0.4782 - val_accuracy: 0.8778\n",
      "Epoch 32/1000\n",
      "23/31 [=====================>........] - ETA: 0s - loss: 0.7872 - accuracy: 0.6773\n",
      "Epoch 32: saving model to model/keypoint_classifier\\keypoint_classifier.hdf5\n",
      "31/31 [==============================] - 0s 5ms/step - loss: 0.7712 - accuracy: 0.6838 - val_loss: 0.4668 - val_accuracy: 0.8700\n",
      "Epoch 33/1000\n",
      "25/31 [=======================>......] - ETA: 0s - loss: 0.7660 - accuracy: 0.6959\n",
      "Epoch 33: saving model to model/keypoint_classifier\\keypoint_classifier.hdf5\n",
      "31/31 [==============================] - 0s 4ms/step - loss: 0.7684 - accuracy: 0.6942 - val_loss: 0.4563 - val_accuracy: 0.8911\n",
      "Epoch 34/1000\n",
      "27/31 [=========================>....] - ETA: 0s - loss: 0.7701 - accuracy: 0.6858\n",
      "Epoch 34: saving model to model/keypoint_classifier\\keypoint_classifier.hdf5\n",
      "31/31 [==============================] - 0s 5ms/step - loss: 0.7675 - accuracy: 0.6872 - val_loss: 0.4588 - val_accuracy: 0.8887\n",
      "Epoch 35/1000\n",
      "24/31 [======================>.......] - ETA: 0s - loss: 0.7556 - accuracy: 0.6940\n",
      "Epoch 35: saving model to model/keypoint_classifier\\keypoint_classifier.hdf5\n",
      "31/31 [==============================] - 0s 5ms/step - loss: 0.7621 - accuracy: 0.6916 - val_loss: 0.4493 - val_accuracy: 0.8887\n",
      "Epoch 36/1000\n",
      "23/31 [=====================>........] - ETA: 0s - loss: 0.7405 - accuracy: 0.7106\n",
      "Epoch 36: saving model to model/keypoint_classifier\\keypoint_classifier.hdf5\n",
      "31/31 [==============================] - 0s 5ms/step - loss: 0.7406 - accuracy: 0.7053 - val_loss: 0.4359 - val_accuracy: 0.8895\n",
      "Epoch 37/1000\n",
      "24/31 [======================>.......] - ETA: 0s - loss: 0.7618 - accuracy: 0.6914\n",
      "Epoch 37: saving model to model/keypoint_classifier\\keypoint_classifier.hdf5\n",
      "31/31 [==============================] - 0s 4ms/step - loss: 0.7539 - accuracy: 0.6947 - val_loss: 0.4413 - val_accuracy: 0.8794\n",
      "Epoch 38/1000\n",
      "25/31 [=======================>......] - ETA: 0s - loss: 0.7432 - accuracy: 0.6953\n",
      "Epoch 38: saving model to model/keypoint_classifier\\keypoint_classifier.hdf5\n",
      "31/31 [==============================] - 0s 5ms/step - loss: 0.7358 - accuracy: 0.7017 - val_loss: 0.4287 - val_accuracy: 0.9082\n",
      "Epoch 39/1000\n",
      "25/31 [=======================>......] - ETA: 0s - loss: 0.7353 - accuracy: 0.7078\n",
      "Epoch 39: saving model to model/keypoint_classifier\\keypoint_classifier.hdf5\n",
      "31/31 [==============================] - 0s 5ms/step - loss: 0.7279 - accuracy: 0.7087 - val_loss: 0.4178 - val_accuracy: 0.9167\n",
      "Epoch 40/1000\n",
      "21/31 [===================>..........] - ETA: 0s - loss: 0.7408 - accuracy: 0.7028\n",
      "Epoch 40: saving model to model/keypoint_classifier\\keypoint_classifier.hdf5\n",
      "31/31 [==============================] - 0s 5ms/step - loss: 0.7415 - accuracy: 0.7033 - val_loss: 0.4193 - val_accuracy: 0.9152\n",
      "Epoch 41/1000\n",
      "22/31 [====================>.........] - ETA: 0s - loss: 0.7330 - accuracy: 0.7013\n",
      "Epoch 41: saving model to model/keypoint_classifier\\keypoint_classifier.hdf5\n",
      "31/31 [==============================] - 0s 5ms/step - loss: 0.7406 - accuracy: 0.6999 - val_loss: 0.4180 - val_accuracy: 0.9152\n",
      "Epoch 42/1000\n",
      "20/31 [==================>...........] - ETA: 0s - loss: 0.7011 - accuracy: 0.7172\n",
      "Epoch 42: saving model to model/keypoint_classifier\\keypoint_classifier.hdf5\n",
      "31/31 [==============================] - 0s 5ms/step - loss: 0.7086 - accuracy: 0.7087 - val_loss: 0.4121 - val_accuracy: 0.8856\n",
      "Epoch 43/1000\n",
      "23/31 [=====================>........] - ETA: 0s - loss: 0.7255 - accuracy: 0.7045\n",
      "Epoch 43: saving model to model/keypoint_classifier\\keypoint_classifier.hdf5\n",
      "31/31 [==============================] - 0s 5ms/step - loss: 0.7279 - accuracy: 0.7043 - val_loss: 0.4046 - val_accuracy: 0.9198\n",
      "Epoch 44/1000\n",
      "23/31 [=====================>........] - ETA: 0s - loss: 0.7016 - accuracy: 0.7225\n",
      "Epoch 44: saving model to model/keypoint_classifier\\keypoint_classifier.hdf5\n",
      "31/31 [==============================] - 0s 5ms/step - loss: 0.7143 - accuracy: 0.7126 - val_loss: 0.3971 - val_accuracy: 0.9206\n",
      "Epoch 45/1000\n",
      "29/31 [===========================>..] - ETA: 0s - loss: 0.7189 - accuracy: 0.7217\n",
      "Epoch 45: saving model to model/keypoint_classifier\\keypoint_classifier.hdf5\n",
      "31/31 [==============================] - 0s 4ms/step - loss: 0.7175 - accuracy: 0.7227 - val_loss: 0.3936 - val_accuracy: 0.9237\n",
      "Epoch 46/1000\n",
      "24/31 [======================>.......] - ETA: 0s - loss: 0.7086 - accuracy: 0.7217\n",
      "Epoch 46: saving model to model/keypoint_classifier\\keypoint_classifier.hdf5\n",
      "31/31 [==============================] - 0s 5ms/step - loss: 0.7139 - accuracy: 0.7183 - val_loss: 0.3956 - val_accuracy: 0.9276\n",
      "Epoch 47/1000\n",
      "24/31 [======================>.......] - ETA: 0s - loss: 0.7079 - accuracy: 0.7148\n",
      "Epoch 47: saving model to model/keypoint_classifier\\keypoint_classifier.hdf5\n",
      "31/31 [==============================] - 0s 4ms/step - loss: 0.7069 - accuracy: 0.7144 - val_loss: 0.3987 - val_accuracy: 0.9121\n",
      "Epoch 48/1000\n",
      "24/31 [======================>.......] - ETA: 0s - loss: 0.7110 - accuracy: 0.7184\n",
      "Epoch 48: saving model to model/keypoint_classifier\\keypoint_classifier.hdf5\n",
      "31/31 [==============================] - 0s 4ms/step - loss: 0.7029 - accuracy: 0.7217 - val_loss: 0.3917 - val_accuracy: 0.9261\n",
      "Epoch 49/1000\n",
      "25/31 [=======================>......] - ETA: 0s - loss: 0.7227 - accuracy: 0.7219\n",
      "Epoch 49: saving model to model/keypoint_classifier\\keypoint_classifier.hdf5\n",
      "31/31 [==============================] - 0s 4ms/step - loss: 0.7182 - accuracy: 0.7212 - val_loss: 0.3906 - val_accuracy: 0.9253\n",
      "Epoch 50/1000\n",
      "23/31 [=====================>........] - ETA: 0s - loss: 0.6789 - accuracy: 0.7323\n",
      "Epoch 50: saving model to model/keypoint_classifier\\keypoint_classifier.hdf5\n",
      "31/31 [==============================] - 0s 5ms/step - loss: 0.6935 - accuracy: 0.7298 - val_loss: 0.3783 - val_accuracy: 0.9261\n",
      "Epoch 51/1000\n",
      "24/31 [======================>.......] - ETA: 0s - loss: 0.6929 - accuracy: 0.7246\n",
      "Epoch 51: saving model to model/keypoint_classifier\\keypoint_classifier.hdf5\n",
      "31/31 [==============================] - 0s 4ms/step - loss: 0.6868 - accuracy: 0.7251 - val_loss: 0.3754 - val_accuracy: 0.9331\n",
      "Epoch 52/1000\n",
      "27/31 [=========================>....] - ETA: 0s - loss: 0.6988 - accuracy: 0.7271\n",
      "Epoch 52: saving model to model/keypoint_classifier\\keypoint_classifier.hdf5\n",
      "31/31 [==============================] - 0s 5ms/step - loss: 0.6983 - accuracy: 0.7253 - val_loss: 0.3878 - val_accuracy: 0.9307\n",
      "Epoch 53/1000\n",
      "22/31 [====================>.........] - ETA: 0s - loss: 0.6844 - accuracy: 0.7255\n",
      "Epoch 53: saving model to model/keypoint_classifier\\keypoint_classifier.hdf5\n",
      "31/31 [==============================] - 0s 5ms/step - loss: 0.6982 - accuracy: 0.7212 - val_loss: 0.3726 - val_accuracy: 0.9307\n",
      "Epoch 54/1000\n",
      "26/31 [========================>.....] - ETA: 0s - loss: 0.6616 - accuracy: 0.7401\n",
      "Epoch 54: saving model to model/keypoint_classifier\\keypoint_classifier.hdf5\n",
      "31/31 [==============================] - 0s 4ms/step - loss: 0.6697 - accuracy: 0.7347 - val_loss: 0.3724 - val_accuracy: 0.9315\n",
      "Epoch 55/1000\n"
     ]
    },
    {
     "name": "stdout",
     "output_type": "stream",
     "text": [
      "23/31 [=====================>........] - ETA: 0s - loss: 0.6757 - accuracy: 0.7300\n",
      "Epoch 55: saving model to model/keypoint_classifier\\keypoint_classifier.hdf5\n",
      "31/31 [==============================] - 0s 5ms/step - loss: 0.6748 - accuracy: 0.7331 - val_loss: 0.3657 - val_accuracy: 0.9331\n",
      "Epoch 56/1000\n",
      "18/31 [================>.............] - ETA: 0s - loss: 0.6777 - accuracy: 0.7231\n",
      "Epoch 56: saving model to model/keypoint_classifier\\keypoint_classifier.hdf5\n",
      "31/31 [==============================] - 0s 6ms/step - loss: 0.6870 - accuracy: 0.7222 - val_loss: 0.3596 - val_accuracy: 0.9401\n",
      "Epoch 57/1000\n",
      "21/31 [===================>..........] - ETA: 0s - loss: 0.6842 - accuracy: 0.7214\n",
      "Epoch 57: saving model to model/keypoint_classifier\\keypoint_classifier.hdf5\n",
      "31/31 [==============================] - 0s 5ms/step - loss: 0.6804 - accuracy: 0.7246 - val_loss: 0.3617 - val_accuracy: 0.9331\n",
      "Epoch 58/1000\n",
      "24/31 [======================>.......] - ETA: 0s - loss: 0.6678 - accuracy: 0.7373\n",
      "Epoch 58: saving model to model/keypoint_classifier\\keypoint_classifier.hdf5\n",
      "31/31 [==============================] - 0s 5ms/step - loss: 0.6735 - accuracy: 0.7370 - val_loss: 0.3589 - val_accuracy: 0.9284\n",
      "Epoch 59/1000\n",
      "22/31 [====================>.........] - ETA: 0s - loss: 0.6802 - accuracy: 0.7358\n",
      "Epoch 59: saving model to model/keypoint_classifier\\keypoint_classifier.hdf5\n",
      "31/31 [==============================] - 0s 5ms/step - loss: 0.6649 - accuracy: 0.7425 - val_loss: 0.3550 - val_accuracy: 0.9331\n",
      "Epoch 60/1000\n",
      "22/31 [====================>.........] - ETA: 0s - loss: 0.6670 - accuracy: 0.7386\n",
      "Epoch 60: saving model to model/keypoint_classifier\\keypoint_classifier.hdf5\n",
      "31/31 [==============================] - 0s 5ms/step - loss: 0.6730 - accuracy: 0.7394 - val_loss: 0.3544 - val_accuracy: 0.9346\n",
      "Epoch 61/1000\n",
      "19/31 [=================>............] - ETA: 0s - loss: 0.6964 - accuracy: 0.7237\n",
      "Epoch 61: saving model to model/keypoint_classifier\\keypoint_classifier.hdf5\n",
      "31/31 [==============================] - 0s 5ms/step - loss: 0.6797 - accuracy: 0.7290 - val_loss: 0.3606 - val_accuracy: 0.9401\n",
      "Epoch 62/1000\n",
      "24/31 [======================>.......] - ETA: 0s - loss: 0.6758 - accuracy: 0.7340\n",
      "Epoch 62: saving model to model/keypoint_classifier\\keypoint_classifier.hdf5\n",
      "31/31 [==============================] - 0s 4ms/step - loss: 0.6634 - accuracy: 0.7373 - val_loss: 0.3537 - val_accuracy: 0.9377\n",
      "Epoch 63/1000\n",
      "20/31 [==================>...........] - ETA: 0s - loss: 0.6755 - accuracy: 0.7328\n",
      "Epoch 63: saving model to model/keypoint_classifier\\keypoint_classifier.hdf5\n",
      "31/31 [==============================] - 0s 5ms/step - loss: 0.6667 - accuracy: 0.7391 - val_loss: 0.3485 - val_accuracy: 0.9416\n",
      "Epoch 64/1000\n",
      "23/31 [=====================>........] - ETA: 0s - loss: 0.6893 - accuracy: 0.7351\n",
      "Epoch 64: saving model to model/keypoint_classifier\\keypoint_classifier.hdf5\n",
      "31/31 [==============================] - 0s 5ms/step - loss: 0.6827 - accuracy: 0.7357 - val_loss: 0.3475 - val_accuracy: 0.9416\n",
      "Epoch 65/1000\n",
      "23/31 [=====================>........] - ETA: 0s - loss: 0.6663 - accuracy: 0.7323\n",
      "Epoch 65: saving model to model/keypoint_classifier\\keypoint_classifier.hdf5\n",
      "31/31 [==============================] - 0s 4ms/step - loss: 0.6585 - accuracy: 0.7368 - val_loss: 0.3430 - val_accuracy: 0.9370\n",
      "Epoch 66/1000\n",
      "25/31 [=======================>......] - ETA: 0s - loss: 0.6760 - accuracy: 0.7325\n",
      "Epoch 66: saving model to model/keypoint_classifier\\keypoint_classifier.hdf5\n",
      "31/31 [==============================] - 0s 4ms/step - loss: 0.6755 - accuracy: 0.7310 - val_loss: 0.3467 - val_accuracy: 0.9432\n",
      "Epoch 67/1000\n",
      "27/31 [=========================>....] - ETA: 0s - loss: 0.6513 - accuracy: 0.7376\n",
      "Epoch 67: saving model to model/keypoint_classifier\\keypoint_classifier.hdf5\n",
      "31/31 [==============================] - 0s 5ms/step - loss: 0.6511 - accuracy: 0.7375 - val_loss: 0.3413 - val_accuracy: 0.9447\n",
      "Epoch 68/1000\n",
      "22/31 [====================>.........] - ETA: 0s - loss: 0.6547 - accuracy: 0.7564\n",
      "Epoch 68: saving model to model/keypoint_classifier\\keypoint_classifier.hdf5\n",
      "31/31 [==============================] - 0s 5ms/step - loss: 0.6576 - accuracy: 0.7464 - val_loss: 0.3424 - val_accuracy: 0.9401\n",
      "Epoch 69/1000\n",
      "23/31 [=====================>........] - ETA: 0s - loss: 0.6646 - accuracy: 0.7425\n",
      "Epoch 69: saving model to model/keypoint_classifier\\keypoint_classifier.hdf5\n",
      "31/31 [==============================] - 0s 5ms/step - loss: 0.6518 - accuracy: 0.7508 - val_loss: 0.3365 - val_accuracy: 0.9385\n",
      "Epoch 70/1000\n",
      "20/31 [==================>...........] - ETA: 0s - loss: 0.6627 - accuracy: 0.7422\n",
      "Epoch 70: saving model to model/keypoint_classifier\\keypoint_classifier.hdf5\n",
      "31/31 [==============================] - 0s 6ms/step - loss: 0.6580 - accuracy: 0.7388 - val_loss: 0.3425 - val_accuracy: 0.9370\n",
      "Epoch 71/1000\n",
      "15/31 [=============>................] - ETA: 0s - loss: 0.6334 - accuracy: 0.7510\n",
      "Epoch 71: saving model to model/keypoint_classifier\\keypoint_classifier.hdf5\n",
      "31/31 [==============================] - 0s 7ms/step - loss: 0.6330 - accuracy: 0.7531 - val_loss: 0.3421 - val_accuracy: 0.9432\n",
      "Epoch 72/1000\n",
      "20/31 [==================>...........] - ETA: 0s - loss: 0.6288 - accuracy: 0.7629\n",
      "Epoch 72: saving model to model/keypoint_classifier\\keypoint_classifier.hdf5\n",
      "31/31 [==============================] - 0s 5ms/step - loss: 0.6354 - accuracy: 0.7526 - val_loss: 0.3311 - val_accuracy: 0.9455\n",
      "Epoch 73/1000\n",
      "26/31 [========================>.....] - ETA: 0s - loss: 0.6695 - accuracy: 0.7368\n",
      "Epoch 73: saving model to model/keypoint_classifier\\keypoint_classifier.hdf5\n",
      "31/31 [==============================] - 0s 5ms/step - loss: 0.6593 - accuracy: 0.7407 - val_loss: 0.3418 - val_accuracy: 0.9393\n",
      "Epoch 74/1000\n",
      "22/31 [====================>.........] - ETA: 0s - loss: 0.6345 - accuracy: 0.7514\n",
      "Epoch 74: saving model to model/keypoint_classifier\\keypoint_classifier.hdf5\n",
      "31/31 [==============================] - 0s 5ms/step - loss: 0.6378 - accuracy: 0.7505 - val_loss: 0.3407 - val_accuracy: 0.9416\n",
      "Epoch 75/1000\n",
      "22/31 [====================>.........] - ETA: 0s - loss: 0.6598 - accuracy: 0.7326\n",
      "Epoch 75: saving model to model/keypoint_classifier\\keypoint_classifier.hdf5\n",
      "31/31 [==============================] - 0s 5ms/step - loss: 0.6611 - accuracy: 0.7313 - val_loss: 0.3441 - val_accuracy: 0.9307\n",
      "Epoch 76/1000\n",
      "20/31 [==================>...........] - ETA: 0s - loss: 0.6652 - accuracy: 0.7426\n",
      "Epoch 76: saving model to model/keypoint_classifier\\keypoint_classifier.hdf5\n",
      "31/31 [==============================] - 0s 5ms/step - loss: 0.6560 - accuracy: 0.7482 - val_loss: 0.3369 - val_accuracy: 0.9393\n",
      "Epoch 77/1000\n",
      "25/31 [=======================>......] - ETA: 0s - loss: 0.6492 - accuracy: 0.7575\n",
      "Epoch 77: saving model to model/keypoint_classifier\\keypoint_classifier.hdf5\n",
      "31/31 [==============================] - 0s 5ms/step - loss: 0.6555 - accuracy: 0.7510 - val_loss: 0.3362 - val_accuracy: 0.9393\n",
      "Epoch 78/1000\n",
      "27/31 [=========================>....] - ETA: 0s - loss: 0.6472 - accuracy: 0.7474\n",
      "Epoch 78: saving model to model/keypoint_classifier\\keypoint_classifier.hdf5\n",
      "31/31 [==============================] - 0s 5ms/step - loss: 0.6469 - accuracy: 0.7513 - val_loss: 0.3315 - val_accuracy: 0.9424\n",
      "Epoch 79/1000\n",
      "24/31 [======================>.......] - ETA: 0s - loss: 0.6479 - accuracy: 0.7565\n",
      "Epoch 79: saving model to model/keypoint_classifier\\keypoint_classifier.hdf5\n",
      "31/31 [==============================] - 0s 5ms/step - loss: 0.6440 - accuracy: 0.7536 - val_loss: 0.3299 - val_accuracy: 0.9510\n",
      "Epoch 80/1000\n",
      "22/31 [====================>.........] - ETA: 0s - loss: 0.6682 - accuracy: 0.7401\n",
      "Epoch 80: saving model to model/keypoint_classifier\\keypoint_classifier.hdf5\n",
      "31/31 [==============================] - 0s 5ms/step - loss: 0.6642 - accuracy: 0.7438 - val_loss: 0.3387 - val_accuracy: 0.9401\n",
      "Epoch 81/1000\n",
      "26/31 [========================>.....] - ETA: 0s - loss: 0.6600 - accuracy: 0.7410\n",
      "Epoch 81: saving model to model/keypoint_classifier\\keypoint_classifier.hdf5\n",
      "31/31 [==============================] - 0s 4ms/step - loss: 0.6525 - accuracy: 0.7420 - val_loss: 0.3299 - val_accuracy: 0.9455\n",
      "Epoch 82/1000\n"
     ]
    },
    {
     "name": "stdout",
     "output_type": "stream",
     "text": [
      "27/31 [=========================>....] - ETA: 0s - loss: 0.6454 - accuracy: 0.7425\n",
      "Epoch 82: saving model to model/keypoint_classifier\\keypoint_classifier.hdf5\n",
      "31/31 [==============================] - 0s 5ms/step - loss: 0.6496 - accuracy: 0.7425 - val_loss: 0.3309 - val_accuracy: 0.9424\n",
      "Epoch 83/1000\n",
      "24/31 [======================>.......] - ETA: 0s - loss: 0.6280 - accuracy: 0.7588\n",
      "Epoch 83: saving model to model/keypoint_classifier\\keypoint_classifier.hdf5\n",
      "31/31 [==============================] - 0s 5ms/step - loss: 0.6261 - accuracy: 0.7599 - val_loss: 0.3284 - val_accuracy: 0.9455\n",
      "Epoch 84/1000\n",
      "23/31 [=====================>........] - ETA: 0s - loss: 0.6486 - accuracy: 0.7510\n",
      "Epoch 84: saving model to model/keypoint_classifier\\keypoint_classifier.hdf5\n",
      "31/31 [==============================] - 0s 5ms/step - loss: 0.6390 - accuracy: 0.7523 - val_loss: 0.3265 - val_accuracy: 0.9401\n",
      "Epoch 85/1000\n",
      "21/31 [===================>..........] - ETA: 0s - loss: 0.6552 - accuracy: 0.7455\n",
      "Epoch 85: saving model to model/keypoint_classifier\\keypoint_classifier.hdf5\n",
      "31/31 [==============================] - 0s 5ms/step - loss: 0.6483 - accuracy: 0.7492 - val_loss: 0.3328 - val_accuracy: 0.9447\n",
      "Epoch 86/1000\n",
      "25/31 [=======================>......] - ETA: 0s - loss: 0.6277 - accuracy: 0.7559\n",
      "Epoch 86: saving model to model/keypoint_classifier\\keypoint_classifier.hdf5\n",
      "31/31 [==============================] - 0s 5ms/step - loss: 0.6229 - accuracy: 0.7580 - val_loss: 0.3209 - val_accuracy: 0.9463\n",
      "Epoch 87/1000\n",
      "23/31 [=====================>........] - ETA: 0s - loss: 0.6453 - accuracy: 0.7507\n",
      "Epoch 87: saving model to model/keypoint_classifier\\keypoint_classifier.hdf5\n",
      "31/31 [==============================] - 0s 5ms/step - loss: 0.6504 - accuracy: 0.7490 - val_loss: 0.3303 - val_accuracy: 0.9401\n",
      "Epoch 88/1000\n",
      "28/31 [==========================>...] - ETA: 0s - loss: 0.6391 - accuracy: 0.7559\n",
      "Epoch 88: saving model to model/keypoint_classifier\\keypoint_classifier.hdf5\n",
      "31/31 [==============================] - 0s 4ms/step - loss: 0.6454 - accuracy: 0.7539 - val_loss: 0.3289 - val_accuracy: 0.9377\n",
      "Epoch 89/1000\n",
      "29/31 [===========================>..] - ETA: 0s - loss: 0.6252 - accuracy: 0.7592\n",
      "Epoch 89: saving model to model/keypoint_classifier\\keypoint_classifier.hdf5\n",
      "31/31 [==============================] - 0s 4ms/step - loss: 0.6239 - accuracy: 0.7586 - val_loss: 0.3330 - val_accuracy: 0.9401\n",
      "Epoch 90/1000\n",
      "22/31 [====================>.........] - ETA: 0s - loss: 0.6241 - accuracy: 0.7596\n",
      "Epoch 90: saving model to model/keypoint_classifier\\keypoint_classifier.hdf5\n",
      "31/31 [==============================] - 0s 4ms/step - loss: 0.6337 - accuracy: 0.7539 - val_loss: 0.3347 - val_accuracy: 0.9377\n",
      "Epoch 91/1000\n",
      "26/31 [========================>.....] - ETA: 0s - loss: 0.6349 - accuracy: 0.7572\n",
      "Epoch 91: saving model to model/keypoint_classifier\\keypoint_classifier.hdf5\n",
      "31/31 [==============================] - 0s 4ms/step - loss: 0.6298 - accuracy: 0.7604 - val_loss: 0.3189 - val_accuracy: 0.9440\n",
      "Epoch 92/1000\n",
      "23/31 [=====================>........] - ETA: 0s - loss: 0.6325 - accuracy: 0.7500\n",
      "Epoch 92: saving model to model/keypoint_classifier\\keypoint_classifier.hdf5\n",
      "31/31 [==============================] - 0s 5ms/step - loss: 0.6269 - accuracy: 0.7531 - val_loss: 0.3149 - val_accuracy: 0.9455\n",
      "Epoch 93/1000\n",
      "24/31 [======================>.......] - ETA: 0s - loss: 0.6330 - accuracy: 0.7552\n",
      "Epoch 93: saving model to model/keypoint_classifier\\keypoint_classifier.hdf5\n",
      "31/31 [==============================] - 0s 5ms/step - loss: 0.6367 - accuracy: 0.7529 - val_loss: 0.3204 - val_accuracy: 0.9432\n",
      "Epoch 94/1000\n",
      "24/31 [======================>.......] - ETA: 0s - loss: 0.6322 - accuracy: 0.7555\n",
      "Epoch 94: saving model to model/keypoint_classifier\\keypoint_classifier.hdf5\n",
      "31/31 [==============================] - 0s 5ms/step - loss: 0.6236 - accuracy: 0.7622 - val_loss: 0.3217 - val_accuracy: 0.9447\n",
      "Epoch 95/1000\n",
      "26/31 [========================>.....] - ETA: 0s - loss: 0.5972 - accuracy: 0.7716\n",
      "Epoch 95: saving model to model/keypoint_classifier\\keypoint_classifier.hdf5\n",
      "31/31 [==============================] - 0s 4ms/step - loss: 0.6052 - accuracy: 0.7687 - val_loss: 0.3197 - val_accuracy: 0.9416\n",
      "Epoch 96/1000\n",
      "25/31 [=======================>......] - ETA: 0s - loss: 0.6226 - accuracy: 0.7559\n",
      "Epoch 96: saving model to model/keypoint_classifier\\keypoint_classifier.hdf5\n",
      "31/31 [==============================] - 0s 5ms/step - loss: 0.6265 - accuracy: 0.7521 - val_loss: 0.3134 - val_accuracy: 0.9447\n",
      "Epoch 97/1000\n",
      "25/31 [=======================>......] - ETA: 0s - loss: 0.6328 - accuracy: 0.7450\n",
      "Epoch 97: saving model to model/keypoint_classifier\\keypoint_classifier.hdf5\n",
      "31/31 [==============================] - 0s 5ms/step - loss: 0.6386 - accuracy: 0.7440 - val_loss: 0.3225 - val_accuracy: 0.9424\n",
      "Epoch 98/1000\n",
      "21/31 [===================>..........] - ETA: 0s - loss: 0.6037 - accuracy: 0.7664\n",
      "Epoch 98: saving model to model/keypoint_classifier\\keypoint_classifier.hdf5\n",
      "31/31 [==============================] - 0s 5ms/step - loss: 0.6124 - accuracy: 0.7645 - val_loss: 0.3233 - val_accuracy: 0.9393\n",
      "Epoch 99/1000\n",
      "23/31 [=====================>........] - ETA: 0s - loss: 0.6442 - accuracy: 0.7537\n",
      "Epoch 99: saving model to model/keypoint_classifier\\keypoint_classifier.hdf5\n",
      "31/31 [==============================] - 0s 5ms/step - loss: 0.6410 - accuracy: 0.7555 - val_loss: 0.3269 - val_accuracy: 0.9440\n",
      "Epoch 100/1000\n",
      "20/31 [==================>...........] - ETA: 0s - loss: 0.6205 - accuracy: 0.7664\n",
      "Epoch 100: saving model to model/keypoint_classifier\\keypoint_classifier.hdf5\n",
      "31/31 [==============================] - 0s 5ms/step - loss: 0.6134 - accuracy: 0.7658 - val_loss: 0.3185 - val_accuracy: 0.9424\n",
      "Epoch 101/1000\n",
      "24/31 [======================>.......] - ETA: 0s - loss: 0.6065 - accuracy: 0.7604\n",
      "Epoch 101: saving model to model/keypoint_classifier\\keypoint_classifier.hdf5\n",
      "31/31 [==============================] - 0s 4ms/step - loss: 0.6292 - accuracy: 0.7474 - val_loss: 0.3190 - val_accuracy: 0.9393\n",
      "Epoch 102/1000\n",
      "23/31 [=====================>........] - ETA: 0s - loss: 0.6259 - accuracy: 0.7612\n",
      "Epoch 102: saving model to model/keypoint_classifier\\keypoint_classifier.hdf5\n",
      "31/31 [==============================] - 0s 4ms/step - loss: 0.6264 - accuracy: 0.7614 - val_loss: 0.3204 - val_accuracy: 0.9447\n",
      "Epoch 103/1000\n",
      "23/31 [=====================>........] - ETA: 0s - loss: 0.6229 - accuracy: 0.7683\n",
      "Epoch 103: saving model to model/keypoint_classifier\\keypoint_classifier.hdf5\n",
      "31/31 [==============================] - 0s 5ms/step - loss: 0.6211 - accuracy: 0.7648 - val_loss: 0.3131 - val_accuracy: 0.9424\n",
      "Epoch 104/1000\n",
      "25/31 [=======================>......] - ETA: 0s - loss: 0.6247 - accuracy: 0.7647\n",
      "Epoch 104: saving model to model/keypoint_classifier\\keypoint_classifier.hdf5\n",
      "31/31 [==============================] - 0s 4ms/step - loss: 0.6257 - accuracy: 0.7614 - val_loss: 0.3164 - val_accuracy: 0.9471\n",
      "Epoch 105/1000\n",
      "29/31 [===========================>..] - ETA: 0s - loss: 0.6306 - accuracy: 0.7559\n",
      "Epoch 105: saving model to model/keypoint_classifier\\keypoint_classifier.hdf5\n",
      "31/31 [==============================] - 0s 4ms/step - loss: 0.6300 - accuracy: 0.7567 - val_loss: 0.3151 - val_accuracy: 0.9455\n",
      "Epoch 106/1000\n",
      "23/31 [=====================>........] - ETA: 0s - loss: 0.5989 - accuracy: 0.7700\n",
      "Epoch 106: saving model to model/keypoint_classifier\\keypoint_classifier.hdf5\n",
      "31/31 [==============================] - 0s 5ms/step - loss: 0.6161 - accuracy: 0.7609 - val_loss: 0.3132 - val_accuracy: 0.9393\n",
      "Epoch 107/1000\n",
      "20/31 [==================>...........] - ETA: 0s - loss: 0.6097 - accuracy: 0.7641\n",
      "Epoch 107: saving model to model/keypoint_classifier\\keypoint_classifier.hdf5\n",
      "31/31 [==============================] - 0s 5ms/step - loss: 0.6146 - accuracy: 0.7622 - val_loss: 0.3108 - val_accuracy: 0.9385\n",
      "Epoch 108/1000\n",
      "23/31 [=====================>........] - ETA: 0s - loss: 0.6193 - accuracy: 0.7619\n",
      "Epoch 108: saving model to model/keypoint_classifier\\keypoint_classifier.hdf5\n",
      "31/31 [==============================] - 0s 5ms/step - loss: 0.6239 - accuracy: 0.7578 - val_loss: 0.3086 - val_accuracy: 0.9471\n",
      "Epoch 109/1000\n"
     ]
    },
    {
     "name": "stdout",
     "output_type": "stream",
     "text": [
      "22/31 [====================>.........] - ETA: 0s - loss: 0.6106 - accuracy: 0.7710\n",
      "Epoch 109: saving model to model/keypoint_classifier\\keypoint_classifier.hdf5\n",
      "31/31 [==============================] - 0s 5ms/step - loss: 0.6107 - accuracy: 0.7684 - val_loss: 0.3074 - val_accuracy: 0.9440\n",
      "Epoch 110/1000\n",
      "25/31 [=======================>......] - ETA: 0s - loss: 0.6070 - accuracy: 0.7556\n",
      "Epoch 110: saving model to model/keypoint_classifier\\keypoint_classifier.hdf5\n",
      "31/31 [==============================] - 0s 5ms/step - loss: 0.6090 - accuracy: 0.7555 - val_loss: 0.3173 - val_accuracy: 0.9393\n",
      "Epoch 111/1000\n",
      "24/31 [======================>.......] - ETA: 0s - loss: 0.6289 - accuracy: 0.7539\n",
      "Epoch 111: saving model to model/keypoint_classifier\\keypoint_classifier.hdf5\n",
      "31/31 [==============================] - 0s 5ms/step - loss: 0.6253 - accuracy: 0.7552 - val_loss: 0.3098 - val_accuracy: 0.9486\n",
      "Epoch 112/1000\n",
      "24/31 [======================>.......] - ETA: 0s - loss: 0.6170 - accuracy: 0.7611\n",
      "Epoch 112: saving model to model/keypoint_classifier\\keypoint_classifier.hdf5\n",
      "31/31 [==============================] - 0s 4ms/step - loss: 0.6156 - accuracy: 0.7606 - val_loss: 0.3126 - val_accuracy: 0.9502\n",
      "Epoch 113/1000\n",
      "24/31 [======================>.......] - ETA: 0s - loss: 0.6166 - accuracy: 0.7565\n",
      "Epoch 113: saving model to model/keypoint_classifier\\keypoint_classifier.hdf5\n",
      "31/31 [==============================] - 0s 5ms/step - loss: 0.6217 - accuracy: 0.7539 - val_loss: 0.3121 - val_accuracy: 0.9432\n",
      "Epoch 114/1000\n",
      "20/31 [==================>...........] - ETA: 0s - loss: 0.6152 - accuracy: 0.7613\n",
      "Epoch 114: saving model to model/keypoint_classifier\\keypoint_classifier.hdf5\n",
      "31/31 [==============================] - 0s 5ms/step - loss: 0.6057 - accuracy: 0.7661 - val_loss: 0.3070 - val_accuracy: 0.9440\n",
      "Epoch 115/1000\n",
      "26/31 [========================>.....] - ETA: 0s - loss: 0.6194 - accuracy: 0.7518\n",
      "Epoch 115: saving model to model/keypoint_classifier\\keypoint_classifier.hdf5\n",
      "31/31 [==============================] - 0s 4ms/step - loss: 0.6120 - accuracy: 0.7557 - val_loss: 0.3093 - val_accuracy: 0.9401\n",
      "Epoch 116/1000\n",
      "24/31 [======================>.......] - ETA: 0s - loss: 0.6213 - accuracy: 0.7591\n",
      "Epoch 116: saving model to model/keypoint_classifier\\keypoint_classifier.hdf5\n",
      "31/31 [==============================] - 0s 5ms/step - loss: 0.6296 - accuracy: 0.7578 - val_loss: 0.3013 - val_accuracy: 0.9455\n",
      "Epoch 117/1000\n",
      "23/31 [=====================>........] - ETA: 0s - loss: 0.5957 - accuracy: 0.7629\n",
      "Epoch 117: saving model to model/keypoint_classifier\\keypoint_classifier.hdf5\n",
      "31/31 [==============================] - 0s 4ms/step - loss: 0.5978 - accuracy: 0.7591 - val_loss: 0.3042 - val_accuracy: 0.9401\n",
      "Epoch 118/1000\n",
      "28/31 [==========================>...] - ETA: 0s - loss: 0.6280 - accuracy: 0.7564\n",
      "Epoch 118: saving model to model/keypoint_classifier\\keypoint_classifier.hdf5\n",
      "31/31 [==============================] - 0s 4ms/step - loss: 0.6308 - accuracy: 0.7547 - val_loss: 0.3099 - val_accuracy: 0.9346\n",
      "Epoch 119/1000\n",
      "26/31 [========================>.....] - ETA: 0s - loss: 0.6012 - accuracy: 0.7647\n",
      "Epoch 119: saving model to model/keypoint_classifier\\keypoint_classifier.hdf5\n",
      "31/31 [==============================] - 0s 5ms/step - loss: 0.6055 - accuracy: 0.7604 - val_loss: 0.3150 - val_accuracy: 0.9432\n",
      "Epoch 120/1000\n",
      "24/31 [======================>.......] - ETA: 0s - loss: 0.6145 - accuracy: 0.7607\n",
      "Epoch 120: saving model to model/keypoint_classifier\\keypoint_classifier.hdf5\n",
      "31/31 [==============================] - 0s 5ms/step - loss: 0.6136 - accuracy: 0.7604 - val_loss: 0.3197 - val_accuracy: 0.9432\n",
      "Epoch 121/1000\n",
      "21/31 [===================>..........] - ETA: 0s - loss: 0.6134 - accuracy: 0.7612\n",
      "Epoch 121: saving model to model/keypoint_classifier\\keypoint_classifier.hdf5\n",
      "31/31 [==============================] - 0s 5ms/step - loss: 0.6110 - accuracy: 0.7638 - val_loss: 0.3081 - val_accuracy: 0.9463\n",
      "Epoch 122/1000\n",
      "25/31 [=======================>......] - ETA: 0s - loss: 0.5889 - accuracy: 0.7681\n",
      "Epoch 122: saving model to model/keypoint_classifier\\keypoint_classifier.hdf5\n",
      "31/31 [==============================] - 0s 4ms/step - loss: 0.6042 - accuracy: 0.7625 - val_loss: 0.3146 - val_accuracy: 0.9331\n",
      "Epoch 123/1000\n",
      "25/31 [=======================>......] - ETA: 0s - loss: 0.6078 - accuracy: 0.7678\n",
      "Epoch 123: saving model to model/keypoint_classifier\\keypoint_classifier.hdf5\n",
      "31/31 [==============================] - 0s 5ms/step - loss: 0.6024 - accuracy: 0.7687 - val_loss: 0.3138 - val_accuracy: 0.9346\n",
      "Epoch 124/1000\n",
      "23/31 [=====================>........] - ETA: 0s - loss: 0.6194 - accuracy: 0.7609\n",
      "Epoch 124: saving model to model/keypoint_classifier\\keypoint_classifier.hdf5\n",
      "31/31 [==============================] - 0s 4ms/step - loss: 0.6141 - accuracy: 0.7591 - val_loss: 0.3125 - val_accuracy: 0.9377\n",
      "Epoch 125/1000\n",
      "24/31 [======================>.......] - ETA: 0s - loss: 0.6017 - accuracy: 0.7699\n",
      "Epoch 125: saving model to model/keypoint_classifier\\keypoint_classifier.hdf5\n",
      "31/31 [==============================] - 0s 5ms/step - loss: 0.5994 - accuracy: 0.7708 - val_loss: 0.3030 - val_accuracy: 0.9479\n",
      "Epoch 126/1000\n",
      "26/31 [========================>.....] - ETA: 0s - loss: 0.6151 - accuracy: 0.7692\n",
      "Epoch 126: saving model to model/keypoint_classifier\\keypoint_classifier.hdf5\n",
      "31/31 [==============================] - 0s 5ms/step - loss: 0.6110 - accuracy: 0.7710 - val_loss: 0.3062 - val_accuracy: 0.9447\n",
      "Epoch 127/1000\n",
      "19/31 [=================>............] - ETA: 0s - loss: 0.5989 - accuracy: 0.7697\n",
      "Epoch 127: saving model to model/keypoint_classifier\\keypoint_classifier.hdf5\n",
      "31/31 [==============================] - 0s 5ms/step - loss: 0.6035 - accuracy: 0.7645 - val_loss: 0.3113 - val_accuracy: 0.9385\n",
      "Epoch 128/1000\n",
      "24/31 [======================>.......] - ETA: 0s - loss: 0.6214 - accuracy: 0.7585\n",
      "Epoch 128: saving model to model/keypoint_classifier\\keypoint_classifier.hdf5\n",
      "31/31 [==============================] - 0s 5ms/step - loss: 0.6129 - accuracy: 0.7619 - val_loss: 0.3034 - val_accuracy: 0.9479\n",
      "Epoch 129/1000\n",
      "26/31 [========================>.....] - ETA: 0s - loss: 0.6040 - accuracy: 0.7671\n",
      "Epoch 129: saving model to model/keypoint_classifier\\keypoint_classifier.hdf5\n",
      "31/31 [==============================] - 0s 4ms/step - loss: 0.6037 - accuracy: 0.7669 - val_loss: 0.3125 - val_accuracy: 0.9409\n",
      "Epoch 130/1000\n",
      "24/31 [======================>.......] - ETA: 0s - loss: 0.5894 - accuracy: 0.7741\n",
      "Epoch 130: saving model to model/keypoint_classifier\\keypoint_classifier.hdf5\n",
      "31/31 [==============================] - 0s 5ms/step - loss: 0.5929 - accuracy: 0.7702 - val_loss: 0.3067 - val_accuracy: 0.9393\n",
      "Epoch 131/1000\n",
      "22/31 [====================>.........] - ETA: 0s - loss: 0.5835 - accuracy: 0.7607\n",
      "Epoch 131: saving model to model/keypoint_classifier\\keypoint_classifier.hdf5\n",
      "31/31 [==============================] - 0s 5ms/step - loss: 0.5900 - accuracy: 0.7632 - val_loss: 0.3084 - val_accuracy: 0.9409\n",
      "Epoch 132/1000\n",
      "25/31 [=======================>......] - ETA: 0s - loss: 0.5939 - accuracy: 0.7719\n",
      "Epoch 132: saving model to model/keypoint_classifier\\keypoint_classifier.hdf5\n",
      "31/31 [==============================] - 0s 4ms/step - loss: 0.5901 - accuracy: 0.7734 - val_loss: 0.2993 - val_accuracy: 0.9385\n",
      "Epoch 133/1000\n",
      "21/31 [===================>..........] - ETA: 0s - loss: 0.6233 - accuracy: 0.7664\n",
      "Epoch 133: saving model to model/keypoint_classifier\\keypoint_classifier.hdf5\n",
      "31/31 [==============================] - 0s 5ms/step - loss: 0.6062 - accuracy: 0.7726 - val_loss: 0.3018 - val_accuracy: 0.9440\n",
      "Epoch 134/1000\n",
      "19/31 [=================>............] - ETA: 0s - loss: 0.5836 - accuracy: 0.7747\n",
      "Epoch 134: saving model to model/keypoint_classifier\\keypoint_classifier.hdf5\n",
      "31/31 [==============================] - 0s 5ms/step - loss: 0.5786 - accuracy: 0.7809 - val_loss: 0.2996 - val_accuracy: 0.9471\n",
      "Epoch 135/1000\n",
      "24/31 [======================>.......] - ETA: 0s - loss: 0.5988 - accuracy: 0.7767\n",
      "Epoch 135: saving model to model/keypoint_classifier\\keypoint_classifier.hdf5\n",
      "31/31 [==============================] - 0s 5ms/step - loss: 0.5888 - accuracy: 0.7786 - val_loss: 0.3012 - val_accuracy: 0.9362\n"
     ]
    },
    {
     "name": "stdout",
     "output_type": "stream",
     "text": [
      "Epoch 136/1000\n",
      "22/31 [====================>.........] - ETA: 0s - loss: 0.6071 - accuracy: 0.7617\n",
      "Epoch 136: saving model to model/keypoint_classifier\\keypoint_classifier.hdf5\n",
      "31/31 [==============================] - 0s 5ms/step - loss: 0.6081 - accuracy: 0.7622 - val_loss: 0.3070 - val_accuracy: 0.9331\n",
      "Epoch 137/1000\n",
      "21/31 [===================>..........] - ETA: 0s - loss: 0.5921 - accuracy: 0.7697\n",
      "Epoch 137: saving model to model/keypoint_classifier\\keypoint_classifier.hdf5\n",
      "31/31 [==============================] - 0s 5ms/step - loss: 0.6004 - accuracy: 0.7643 - val_loss: 0.2973 - val_accuracy: 0.9479\n",
      "Epoch 138/1000\n",
      "25/31 [=======================>......] - ETA: 0s - loss: 0.6041 - accuracy: 0.7588\n",
      "Epoch 138: saving model to model/keypoint_classifier\\keypoint_classifier.hdf5\n",
      "31/31 [==============================] - 0s 5ms/step - loss: 0.6096 - accuracy: 0.7586 - val_loss: 0.3091 - val_accuracy: 0.9401\n",
      "Epoch 139/1000\n",
      "25/31 [=======================>......] - ETA: 0s - loss: 0.5966 - accuracy: 0.7769\n",
      "Epoch 139: saving model to model/keypoint_classifier\\keypoint_classifier.hdf5\n",
      "31/31 [==============================] - 0s 5ms/step - loss: 0.5971 - accuracy: 0.7754 - val_loss: 0.3052 - val_accuracy: 0.9416\n",
      "Epoch 140/1000\n",
      "23/31 [=====================>........] - ETA: 0s - loss: 0.5840 - accuracy: 0.7768\n",
      "Epoch 140: saving model to model/keypoint_classifier\\keypoint_classifier.hdf5\n",
      "31/31 [==============================] - 0s 5ms/step - loss: 0.5859 - accuracy: 0.7754 - val_loss: 0.2971 - val_accuracy: 0.9447\n",
      "Epoch 141/1000\n",
      "20/31 [==================>...........] - ETA: 0s - loss: 0.6053 - accuracy: 0.7605\n",
      "Epoch 141: saving model to model/keypoint_classifier\\keypoint_classifier.hdf5\n",
      "31/31 [==============================] - 0s 4ms/step - loss: 0.6012 - accuracy: 0.7635 - val_loss: 0.2898 - val_accuracy: 0.9486\n",
      "Epoch 142/1000\n",
      "22/31 [====================>.........] - ETA: 0s - loss: 0.5706 - accuracy: 0.7741\n",
      "Epoch 142: saving model to model/keypoint_classifier\\keypoint_classifier.hdf5\n",
      "31/31 [==============================] - 0s 4ms/step - loss: 0.5843 - accuracy: 0.7700 - val_loss: 0.2920 - val_accuracy: 0.9432\n",
      "Epoch 143/1000\n",
      "24/31 [======================>.......] - ETA: 0s - loss: 0.6044 - accuracy: 0.7630\n",
      "Epoch 143: saving model to model/keypoint_classifier\\keypoint_classifier.hdf5\n",
      "31/31 [==============================] - 0s 5ms/step - loss: 0.6005 - accuracy: 0.7656 - val_loss: 0.2995 - val_accuracy: 0.9362\n",
      "Epoch 144/1000\n",
      "22/31 [====================>.........] - ETA: 0s - loss: 0.5906 - accuracy: 0.7788\n",
      "Epoch 144: saving model to model/keypoint_classifier\\keypoint_classifier.hdf5\n",
      "31/31 [==============================] - 0s 5ms/step - loss: 0.5963 - accuracy: 0.7762 - val_loss: 0.3001 - val_accuracy: 0.9471\n",
      "Epoch 145/1000\n",
      "26/31 [========================>.....] - ETA: 0s - loss: 0.5870 - accuracy: 0.7743\n",
      "Epoch 145: saving model to model/keypoint_classifier\\keypoint_classifier.hdf5\n",
      "31/31 [==============================] - 0s 5ms/step - loss: 0.5957 - accuracy: 0.7700 - val_loss: 0.2974 - val_accuracy: 0.9424\n",
      "Epoch 146/1000\n",
      "20/31 [==================>...........] - ETA: 0s - loss: 0.6166 - accuracy: 0.7543\n",
      "Epoch 146: saving model to model/keypoint_classifier\\keypoint_classifier.hdf5\n",
      "31/31 [==============================] - 0s 6ms/step - loss: 0.6180 - accuracy: 0.7567 - val_loss: 0.3019 - val_accuracy: 0.9370\n",
      "Epoch 147/1000\n",
      "23/31 [=====================>........] - ETA: 0s - loss: 0.5996 - accuracy: 0.7697\n",
      "Epoch 147: saving model to model/keypoint_classifier\\keypoint_classifier.hdf5\n",
      "31/31 [==============================] - 0s 4ms/step - loss: 0.5923 - accuracy: 0.7739 - val_loss: 0.2948 - val_accuracy: 0.9409\n",
      "Epoch 148/1000\n",
      "27/31 [=========================>....] - ETA: 0s - loss: 0.5964 - accuracy: 0.7746\n",
      "Epoch 148: saving model to model/keypoint_classifier\\keypoint_classifier.hdf5\n",
      "31/31 [==============================] - 0s 4ms/step - loss: 0.5922 - accuracy: 0.7767 - val_loss: 0.2959 - val_accuracy: 0.9354\n",
      "Epoch 149/1000\n",
      "23/31 [=====================>........] - ETA: 0s - loss: 0.5884 - accuracy: 0.7704\n",
      "Epoch 149: saving model to model/keypoint_classifier\\keypoint_classifier.hdf5\n",
      "31/31 [==============================] - 0s 4ms/step - loss: 0.5954 - accuracy: 0.7723 - val_loss: 0.2943 - val_accuracy: 0.9416\n",
      "Epoch 150/1000\n",
      "26/31 [========================>.....] - ETA: 0s - loss: 0.5690 - accuracy: 0.7794\n",
      "Epoch 150: saving model to model/keypoint_classifier\\keypoint_classifier.hdf5\n",
      "31/31 [==============================] - 0s 4ms/step - loss: 0.5723 - accuracy: 0.7775 - val_loss: 0.2925 - val_accuracy: 0.9393\n",
      "Epoch 151/1000\n",
      "24/31 [======================>.......] - ETA: 0s - loss: 0.6090 - accuracy: 0.7637\n",
      "Epoch 151: saving model to model/keypoint_classifier\\keypoint_classifier.hdf5\n",
      "31/31 [==============================] - 0s 5ms/step - loss: 0.5942 - accuracy: 0.7718 - val_loss: 0.3000 - val_accuracy: 0.9377\n",
      "Epoch 152/1000\n",
      "21/31 [===================>..........] - ETA: 0s - loss: 0.5967 - accuracy: 0.7690\n",
      "Epoch 152: saving model to model/keypoint_classifier\\keypoint_classifier.hdf5\n",
      "31/31 [==============================] - 0s 4ms/step - loss: 0.5926 - accuracy: 0.7648 - val_loss: 0.2984 - val_accuracy: 0.9401\n",
      "Epoch 153/1000\n",
      "23/31 [=====================>........] - ETA: 0s - loss: 0.6011 - accuracy: 0.7619\n",
      "Epoch 153: saving model to model/keypoint_classifier\\keypoint_classifier.hdf5\n",
      "31/31 [==============================] - 0s 5ms/step - loss: 0.5878 - accuracy: 0.7666 - val_loss: 0.2946 - val_accuracy: 0.9416\n",
      "Epoch 154/1000\n",
      "21/31 [===================>..........] - ETA: 0s - loss: 0.5709 - accuracy: 0.7842\n",
      "Epoch 154: saving model to model/keypoint_classifier\\keypoint_classifier.hdf5\n",
      "31/31 [==============================] - 0s 5ms/step - loss: 0.5805 - accuracy: 0.7783 - val_loss: 0.2981 - val_accuracy: 0.9424\n",
      "Epoch 155/1000\n",
      "25/31 [=======================>......] - ETA: 0s - loss: 0.5939 - accuracy: 0.7700\n",
      "Epoch 155: saving model to model/keypoint_classifier\\keypoint_classifier.hdf5\n",
      "31/31 [==============================] - 0s 4ms/step - loss: 0.5981 - accuracy: 0.7679 - val_loss: 0.3025 - val_accuracy: 0.9370\n",
      "Epoch 156/1000\n",
      "25/31 [=======================>......] - ETA: 0s - loss: 0.5848 - accuracy: 0.7722\n",
      "Epoch 156: saving model to model/keypoint_classifier\\keypoint_classifier.hdf5\n",
      "31/31 [==============================] - 0s 4ms/step - loss: 0.5842 - accuracy: 0.7708 - val_loss: 0.2941 - val_accuracy: 0.9416\n",
      "Epoch 157/1000\n",
      "23/31 [=====================>........] - ETA: 0s - loss: 0.5941 - accuracy: 0.7738\n",
      "Epoch 157: saving model to model/keypoint_classifier\\keypoint_classifier.hdf5\n",
      "31/31 [==============================] - 0s 5ms/step - loss: 0.5957 - accuracy: 0.7739 - val_loss: 0.2943 - val_accuracy: 0.9393\n",
      "Epoch 158/1000\n",
      "22/31 [====================>.........] - ETA: 0s - loss: 0.5784 - accuracy: 0.7770\n",
      "Epoch 158: saving model to model/keypoint_classifier\\keypoint_classifier.hdf5\n",
      "31/31 [==============================] - 0s 5ms/step - loss: 0.5791 - accuracy: 0.7791 - val_loss: 0.3029 - val_accuracy: 0.9284\n",
      "Epoch 159/1000\n",
      "27/31 [=========================>....] - ETA: 0s - loss: 0.5913 - accuracy: 0.7679\n",
      "Epoch 159: saving model to model/keypoint_classifier\\keypoint_classifier.hdf5\n",
      "31/31 [==============================] - 0s 5ms/step - loss: 0.5953 - accuracy: 0.7682 - val_loss: 0.3009 - val_accuracy: 0.9354\n",
      "Epoch 160/1000\n",
      "27/31 [=========================>....] - ETA: 0s - loss: 0.5856 - accuracy: 0.7824\n",
      "Epoch 160: saving model to model/keypoint_classifier\\keypoint_classifier.hdf5\n",
      "31/31 [==============================] - 0s 5ms/step - loss: 0.5921 - accuracy: 0.7788 - val_loss: 0.2923 - val_accuracy: 0.9440\n",
      "Epoch 161/1000\n",
      "20/31 [==================>...........] - ETA: 0s - loss: 0.5904 - accuracy: 0.7773\n",
      "Epoch 161: saving model to model/keypoint_classifier\\keypoint_classifier.hdf5\n",
      "31/31 [==============================] - 0s 5ms/step - loss: 0.5890 - accuracy: 0.7760 - val_loss: 0.3023 - val_accuracy: 0.9292\n",
      "Epoch 161: early stopping\n"
     ]
    },
    {
     "data": {
      "text/plain": [
       "<keras.callbacks.History at 0x1a5c87dc0d0>"
      ]
     },
     "execution_count": 100,
     "metadata": {},
     "output_type": "execute_result"
    }
   ],
   "source": [
    "model.fit(\n",
    "    X_train,\n",
    "    y_train,\n",
    "    epochs=1000,\n",
    "    batch_size=128,\n",
    "    validation_data=(X_test, y_test),\n",
    "    callbacks=[cp_callback, es_callback]\n",
    ")"
   ]
  },
  {
   "cell_type": "code",
   "execution_count": 101,
   "metadata": {
    "colab": {
     "base_uri": "https://localhost:8080/"
    },
    "id": "pxvb2Y299hE3",
    "outputId": "59eb3185-2e37-4b9e-bc9d-ab1b8ac29b7f"
   },
   "outputs": [
    {
     "name": "stdout",
     "output_type": "stream",
     "text": [
      "11/11 [==============================] - 0s 2ms/step - loss: 0.3023 - accuracy: 0.9292\n"
     ]
    }
   ],
   "source": [
    "# Model evaluation\n",
    "val_loss, val_acc = model.evaluate(X_test, y_test, batch_size=128)"
   ]
  },
  {
   "cell_type": "code",
   "execution_count": 102,
   "metadata": {
    "id": "RBkmDeUW9hE4"
   },
   "outputs": [],
   "source": [
    "# Loading the saved model\n",
    "model = tf.keras.models.load_model(model_save_path)"
   ]
  },
  {
   "cell_type": "code",
   "execution_count": 103,
   "metadata": {
    "colab": {
     "base_uri": "https://localhost:8080/"
    },
    "id": "tFz9Tb0I9hE4",
    "outputId": "1c3b3528-54ae-4ee2-ab04-77429211cbef"
   },
   "outputs": [
    {
     "name": "stdout",
     "output_type": "stream",
     "text": [
      "1/1 [==============================] - 0s 86ms/step\n",
      "[9.9098349e-01 9.0138819e-03 5.4312738e-11 1.7392248e-06 7.8930208e-07]\n",
      "0\n"
     ]
    }
   ],
   "source": [
    "# Inference test\n",
    "predict_result = model.predict(np.array([X_test[0]]))\n",
    "print(np.squeeze(predict_result))\n",
    "print(np.argmax(np.squeeze(predict_result)))"
   ]
  },
  {
   "cell_type": "markdown",
   "metadata": {
    "id": "S3U4yNWx9hE4"
   },
   "source": [
    "# Confusion matrix"
   ]
  },
  {
   "cell_type": "code",
   "execution_count": 104,
   "metadata": {
    "colab": {
     "base_uri": "https://localhost:8080/",
     "height": 582
    },
    "id": "AP1V6SCk9hE5",
    "outputId": "08e41a80-7a4a-4619-8125-ecc371368d19"
   },
   "outputs": [
    {
     "name": "stdout",
     "output_type": "stream",
     "text": [
      "41/41 [==============================] - 0s 1ms/step\n"
     ]
    },
    {
     "data": {
      "image/png": "[encoded data removed]",
      "text/plain": [
       "<Figure size 700x600 with 2 Axes>"
      ]
     },
     "metadata": {},
     "output_type": "display_data"
    },
    {
     "name": "stdout",
     "output_type": "stream",
     "text": [
      "Classification Report\n",
      "              precision    recall  f1-score   support\n",
      "\n",
      "           0       0.96      0.92      0.94       402\n",
      "           1       0.99      0.92      0.95       366\n",
      "           2       0.92      0.98      0.95       325\n",
      "           3       0.97      0.77      0.86        91\n",
      "           4       0.70      0.99      0.82       101\n",
      "\n",
      "    accuracy                           0.93      1285\n",
      "   macro avg       0.91      0.92      0.90      1285\n",
      "weighted avg       0.94      0.93      0.93      1285\n",
      "\n"
     ]
    }
   ],
   "source": [
    "import pandas as pd\n",
    "import seaborn as sns\n",
    "import matplotlib.pyplot as plt\n",
    "from sklearn.metrics import confusion_matrix, classification_report\n",
    "\n",
    "def print_confusion_matrix(y_true, y_pred, report=True):\n",
    "    labels = sorted(list(set(y_true)))\n",
    "    cmx_data = confusion_matrix(y_true, y_pred, labels=labels)\n",
    "    \n",
    "    df_cmx = pd.DataFrame(cmx_data, index=labels, columns=labels)\n",
    " \n",
    "    fig, ax = plt.subplots(figsize=(7, 6))\n",
    "    sns.heatmap(df_cmx, annot=True, fmt='g' ,square=False)\n",
    "    ax.set_ylim(len(set(y_true)), 0)\n",
    "    plt.show()\n",
    "    \n",
    "    if report:\n",
    "        print('Classification Report')\n",
    "        print(classification_report(y_test, y_pred))\n",
    "\n",
    "Y_pred = model.predict(X_test)\n",
    "y_pred = np.argmax(Y_pred, axis=1)\n",
    "\n",
    "print_confusion_matrix(y_test, y_pred)"
   ]
  },
  {
   "cell_type": "markdown",
   "metadata": {
    "id": "FNP6aqzc9hE5"
   },
   "source": [
    "# Convert to model for Tensorflow-Lite"
   ]
  },
  {
   "cell_type": "code",
   "execution_count": 105,
   "metadata": {
    "id": "ODjnYyld9hE6"
   },
   "outputs": [],
   "source": [
    "# Save as a model dedicated to inference\n",
    "model.save(model_save_path, include_optimizer=False)"
   ]
  },
  {
   "cell_type": "code",
   "execution_count": 106,
   "metadata": {
    "colab": {
     "base_uri": "https://localhost:8080/"
    },
    "id": "zRfuK8Y59hE6",
    "outputId": "a4ca585c-b5d5-4244-8291-8674063209bb"
   },
   "outputs": [
    {
     "name": "stderr",
     "output_type": "stream",
     "text": [
      "WARNING:absl:Found untraced functions such as _update_step_xla while saving (showing 1 of 1). These functions will not be directly callable after loading.\n"
     ]
    },
    {
     "name": "stdout",
     "output_type": "stream",
     "text": [
      "INFO:tensorflow:Assets written to: C:\\Users\\jasha\\AppData\\Local\\Temp\\tmpw29_ns_0\\assets\n"
     ]
    },
    {
     "name": "stderr",
     "output_type": "stream",
     "text": [
      "INFO:tensorflow:Assets written to: C:\\Users\\jasha\\AppData\\Local\\Temp\\tmpw29_ns_0\\assets\n"
     ]
    },
    {
     "data": {
      "text/plain": [
       "6652"
      ]
     },
     "execution_count": 106,
     "metadata": {},
     "output_type": "execute_result"
    }
   ],
   "source": [
    "# Transform model (quantization)\n",
    "\n",
    "converter = tf.lite.TFLiteConverter.from_keras_model(model)\n",
    "converter.optimizations = [tf.lite.Optimize.DEFAULT]\n",
    "tflite_quantized_model = converter.convert()\n",
    "\n",
    "open(tflite_save_path, 'wb').write(tflite_quantized_model)"
   ]
  },
  {
   "cell_type": "markdown",
   "metadata": {
    "id": "CHBPBXdx9hE6"
   },
   "source": [
    "# Inference test"
   ]
  },
  {
   "cell_type": "code",
   "execution_count": 107,
   "metadata": {
    "id": "mGAzLocO9hE7"
   },
   "outputs": [],
   "source": [
    "interpreter = tf.lite.Interpreter(model_path=tflite_save_path)\n",
    "interpreter.allocate_tensors()"
   ]
  },
  {
   "cell_type": "code",
   "execution_count": 108,
   "metadata": {
    "id": "oQuDK8YS9hE7"
   },
   "outputs": [],
   "source": [
    "# Get I / O tensor\n",
    "input_details = interpreter.get_input_details()\n",
    "output_details = interpreter.get_output_details()"
   ]
  },
  {
   "cell_type": "code",
   "execution_count": 109,
   "metadata": {
    "id": "2_ixAf_l9hE7"
   },
   "outputs": [],
   "source": [
    "interpreter.set_tensor(input_details[0]['index'], np.array([X_test[0]]))"
   ]
  },
  {
   "cell_type": "code",
   "execution_count": 110,
   "metadata": {
    "colab": {
     "base_uri": "https://localhost:8080/"
    },
    "id": "s4FoAnuc9hE7",
    "outputId": "91f18257-8d8b-4ef3-c558-e9b5f94fabbf",
    "scrolled": true
   },
   "outputs": [
    {
     "name": "stdout",
     "output_type": "stream",
     "text": [
      "CPU times: total: 0 ns\n",
      "Wall time: 0 ns\n"
     ]
    }
   ],
   "source": [
    "%%time\n",
    "# Inference implementation\n",
    "interpreter.invoke()\n",
    "tflite_results = interpreter.get_tensor(output_details[0]['index'])"
   ]
  },
  {
   "cell_type": "code",
   "execution_count": 111,
   "metadata": {
    "colab": {
     "base_uri": "https://localhost:8080/"
    },
    "id": "vONjp19J9hE8",
    "outputId": "77205e24-fd00-42c4-f7b6-e06e527c2cba"
   },
   "outputs": [
    {
     "name": "stdout",
     "output_type": "stream",
     "text": [
      "[9.9098349e-01 9.0138810e-03 5.4312738e-11 1.7392248e-06 7.8930123e-07]\n",
      "0\n"
     ]
    }
   ],
   "source": [
    "print(np.squeeze(tflite_results))\n",
    "print(np.argmax(np.squeeze(tflite_results)))"
   ]
  }
 ],
 "metadata": {
  "accelerator": "GPU",
  "colab": {
   "collapsed_sections": [],
   "name": "keypoint_classification_EN.ipynb",
   "provenance": [],
   "toc_visible": true
  },
  "kernelspec": {
   "display_name": "Python 3 (ipykernel)",
   "language": "python",
   "name": "python3"
  },
  "language_info": {
   "codemirror_mode": {
    "name": "ipython",
    "version": 3
   },
   "file_extension": ".py",
   "mimetype": "text/x-python",
   "name": "python",
   "nbconvert_exporter": "python",
   "pygments_lexer": "ipython3",
   "version": "3.10.9"
  }
 },
 "nbformat": 4,
 "nbformat_minor": 1
}
